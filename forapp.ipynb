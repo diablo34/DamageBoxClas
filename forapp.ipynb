{
  "nbformat": 4,
  "nbformat_minor": 0,
  "metadata": {
    "colab": {
      "name": "forapp.ipynb",
      "provenance": [],
      "collapsed_sections": []
    },
    "kernelspec": {
      "name": "python3",
      "display_name": "Python 3"
    },
    "widgets": {
      "application/vnd.jupyter.widget-state+json": {
        "3791970d9adb4525a2a509b729844979": {
          "model_module": "@jupyter-widgets/controls",
          "model_name": "VBoxModel",
          "state": {
            "_view_name": "VBoxView",
            "_dom_classes": [],
            "_model_name": "VBoxModel",
            "_view_module": "@jupyter-widgets/controls",
            "_model_module_version": "1.5.0",
            "_view_count": null,
            "_view_module_version": "1.5.0",
            "box_style": "",
            "layout": "IPY_MODEL_4a30e61c888a4493a46dd4eb0f2e5b92",
            "_model_module": "@jupyter-widgets/controls",
            "children": [
              "IPY_MODEL_e83f136a8650492ab67954fb53fc0d01",
              "IPY_MODEL_97e2b845669540ee8f63ea10eeebf6cf",
              "IPY_MODEL_fa4fe47a9e3f42bf9285035a48346a13",
              "IPY_MODEL_3cc56545e8ac46a2acc3f75e53620ef3"
            ]
          }
        },
        "4a30e61c888a4493a46dd4eb0f2e5b92": {
          "model_module": "@jupyter-widgets/base",
          "model_name": "LayoutModel",
          "state": {
            "_view_name": "LayoutView",
            "grid_template_rows": null,
            "right": null,
            "justify_content": null,
            "_view_module": "@jupyter-widgets/base",
            "overflow": null,
            "_model_module_version": "1.2.0",
            "_view_count": null,
            "flex_flow": null,
            "width": null,
            "min_width": null,
            "border": null,
            "align_items": null,
            "bottom": null,
            "_model_module": "@jupyter-widgets/base",
            "top": null,
            "grid_column": null,
            "overflow_y": null,
            "overflow_x": null,
            "grid_auto_flow": null,
            "grid_area": null,
            "grid_template_columns": null,
            "flex": null,
            "_model_name": "LayoutModel",
            "justify_items": null,
            "grid_row": null,
            "max_height": null,
            "align_content": null,
            "visibility": null,
            "align_self": null,
            "height": null,
            "min_height": null,
            "padding": null,
            "grid_auto_rows": null,
            "grid_gap": null,
            "max_width": null,
            "order": null,
            "_view_module_version": "1.2.0",
            "grid_template_areas": null,
            "object_position": null,
            "object_fit": null,
            "grid_auto_columns": null,
            "margin": null,
            "display": null,
            "left": null
          }
        },
        "e83f136a8650492ab67954fb53fc0d01": {
          "model_module": "@jupyter-widgets/controls",
          "model_name": "LabelModel",
          "state": {
            "_view_name": "LabelView",
            "style": "IPY_MODEL_a13d1de4c13248ff83cf76d5d79be70b",
            "_dom_classes": [],
            "description": "",
            "_model_name": "LabelModel",
            "placeholder": "​",
            "_view_module": "@jupyter-widgets/controls",
            "_model_module_version": "1.5.0",
            "value": "Select your Box!",
            "_view_count": null,
            "_view_module_version": "1.5.0",
            "description_tooltip": null,
            "_model_module": "@jupyter-widgets/controls",
            "layout": "IPY_MODEL_a14cf7d68da24c438b906f42e6242ba2"
          }
        },
        "97e2b845669540ee8f63ea10eeebf6cf": {
          "model_module": "@jupyter-widgets/controls",
          "model_name": "FileUploadModel",
          "state": {
            "_view_name": "FileUploadView",
            "_counter": 1,
            "style": "IPY_MODEL_9a748f9a084a4b85bb209198af9cca8b",
            "_dom_classes": [],
            "description": "Upload",
            "multiple": false,
            "_model_name": "FileUploadModel",
            "data": [
              null
            ],
            "button_style": "",
            "_view_module": "@jupyter-widgets/controls",
            "_model_module_version": "1.5.0",
            "accept": "",
            "_view_count": null,
            "disabled": false,
            "_view_module_version": "1.5.0",
            "error": "",
            "description_tooltip": null,
            "metadata": [
              {
                "name": "0a90daaf-aea9-42b7-a32d-b83fca23d32b.jpg",
                "type": "image/jpeg",
                "size": 99924,
                "lastModified": 1567132946728
              }
            ],
            "_model_module": "@jupyter-widgets/controls",
            "layout": "IPY_MODEL_dd9bcd212fc1409cb458e8ba8eb824c9",
            "icon": "upload"
          }
        },
        "fa4fe47a9e3f42bf9285035a48346a13": {
          "model_module": "@jupyter-widgets/output",
          "model_name": "OutputModel",
          "state": {
            "_view_name": "OutputView",
            "msg_id": "",
            "_dom_classes": [],
            "_model_name": "OutputModel",
            "outputs": [
              {
                "output_type": "display_data",
                "metadata": {
                  "tags": []
                },
                "image/png": "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\n",
                "text/plain": "<PIL.Image.Image image mode=RGB size=128x96 at 0x7F9CBD881F98>"
              }
            ],
            "_view_module": "@jupyter-widgets/output",
            "_model_module_version": "1.0.0",
            "_view_count": null,
            "_view_module_version": "1.0.0",
            "layout": "IPY_MODEL_96a0084552c94f38bf20284a91b62818",
            "_model_module": "@jupyter-widgets/output"
          }
        },
        "3cc56545e8ac46a2acc3f75e53620ef3": {
          "model_module": "@jupyter-widgets/controls",
          "model_name": "LabelModel",
          "state": {
            "_view_name": "LabelView",
            "style": "IPY_MODEL_bc222907dc684620b0ff424ac53ab679",
            "_dom_classes": [],
            "description": "",
            "_model_name": "LabelModel",
            "placeholder": "​",
            "_view_module": "@jupyter-widgets/controls",
            "_model_module_version": "1.5.0",
            "value": "Prediction: No-good; Probability: 0.9458",
            "_view_count": null,
            "_view_module_version": "1.5.0",
            "description_tooltip": null,
            "_model_module": "@jupyter-widgets/controls",
            "layout": "IPY_MODEL_2f4ed75108a74eb8ba894bc1f6bfbb38"
          }
        },
        "a13d1de4c13248ff83cf76d5d79be70b": {
          "model_module": "@jupyter-widgets/controls",
          "model_name": "DescriptionStyleModel",
          "state": {
            "_view_name": "StyleView",
            "_model_name": "DescriptionStyleModel",
            "description_width": "",
            "_view_module": "@jupyter-widgets/base",
            "_model_module_version": "1.5.0",
            "_view_count": null,
            "_view_module_version": "1.2.0",
            "_model_module": "@jupyter-widgets/controls"
          }
        },
        "a14cf7d68da24c438b906f42e6242ba2": {
          "model_module": "@jupyter-widgets/base",
          "model_name": "LayoutModel",
          "state": {
            "_view_name": "LayoutView",
            "grid_template_rows": null,
            "right": null,
            "justify_content": null,
            "_view_module": "@jupyter-widgets/base",
            "overflow": null,
            "_model_module_version": "1.2.0",
            "_view_count": null,
            "flex_flow": null,
            "width": null,
            "min_width": null,
            "border": null,
            "align_items": null,
            "bottom": null,
            "_model_module": "@jupyter-widgets/base",
            "top": null,
            "grid_column": null,
            "overflow_y": null,
            "overflow_x": null,
            "grid_auto_flow": null,
            "grid_area": null,
            "grid_template_columns": null,
            "flex": null,
            "_model_name": "LayoutModel",
            "justify_items": null,
            "grid_row": null,
            "max_height": null,
            "align_content": null,
            "visibility": null,
            "align_self": null,
            "height": null,
            "min_height": null,
            "padding": null,
            "grid_auto_rows": null,
            "grid_gap": null,
            "max_width": null,
            "order": null,
            "_view_module_version": "1.2.0",
            "grid_template_areas": null,
            "object_position": null,
            "object_fit": null,
            "grid_auto_columns": null,
            "margin": null,
            "display": null,
            "left": null
          }
        },
        "9a748f9a084a4b85bb209198af9cca8b": {
          "model_module": "@jupyter-widgets/controls",
          "model_name": "ButtonStyleModel",
          "state": {
            "_view_name": "StyleView",
            "_model_name": "ButtonStyleModel",
            "_view_module": "@jupyter-widgets/base",
            "_model_module_version": "1.5.0",
            "_view_count": null,
            "button_color": null,
            "font_weight": "",
            "_view_module_version": "1.2.0",
            "_model_module": "@jupyter-widgets/controls"
          }
        },
        "dd9bcd212fc1409cb458e8ba8eb824c9": {
          "model_module": "@jupyter-widgets/base",
          "model_name": "LayoutModel",
          "state": {
            "_view_name": "LayoutView",
            "grid_template_rows": null,
            "right": null,
            "justify_content": null,
            "_view_module": "@jupyter-widgets/base",
            "overflow": null,
            "_model_module_version": "1.2.0",
            "_view_count": null,
            "flex_flow": null,
            "width": null,
            "min_width": null,
            "border": null,
            "align_items": null,
            "bottom": null,
            "_model_module": "@jupyter-widgets/base",
            "top": null,
            "grid_column": null,
            "overflow_y": null,
            "overflow_x": null,
            "grid_auto_flow": null,
            "grid_area": null,
            "grid_template_columns": null,
            "flex": null,
            "_model_name": "LayoutModel",
            "justify_items": null,
            "grid_row": null,
            "max_height": null,
            "align_content": null,
            "visibility": null,
            "align_self": null,
            "height": null,
            "min_height": null,
            "padding": null,
            "grid_auto_rows": null,
            "grid_gap": null,
            "max_width": null,
            "order": null,
            "_view_module_version": "1.2.0",
            "grid_template_areas": null,
            "object_position": null,
            "object_fit": null,
            "grid_auto_columns": null,
            "margin": null,
            "display": null,
            "left": null
          }
        },
        "bc222907dc684620b0ff424ac53ab679": {
          "model_module": "@jupyter-widgets/controls",
          "model_name": "DescriptionStyleModel",
          "state": {
            "_view_name": "StyleView",
            "_model_name": "DescriptionStyleModel",
            "description_width": "",
            "_view_module": "@jupyter-widgets/base",
            "_model_module_version": "1.5.0",
            "_view_count": null,
            "_view_module_version": "1.2.0",
            "_model_module": "@jupyter-widgets/controls"
          }
        },
        "2f4ed75108a74eb8ba894bc1f6bfbb38": {
          "model_module": "@jupyter-widgets/base",
          "model_name": "LayoutModel",
          "state": {
            "_view_name": "LayoutView",
            "grid_template_rows": null,
            "right": null,
            "justify_content": null,
            "_view_module": "@jupyter-widgets/base",
            "overflow": null,
            "_model_module_version": "1.2.0",
            "_view_count": null,
            "flex_flow": null,
            "width": null,
            "min_width": null,
            "border": null,
            "align_items": null,
            "bottom": null,
            "_model_module": "@jupyter-widgets/base",
            "top": null,
            "grid_column": null,
            "overflow_y": null,
            "overflow_x": null,
            "grid_auto_flow": null,
            "grid_area": null,
            "grid_template_columns": null,
            "flex": null,
            "_model_name": "LayoutModel",
            "justify_items": null,
            "grid_row": null,
            "max_height": null,
            "align_content": null,
            "visibility": null,
            "align_self": null,
            "height": null,
            "min_height": null,
            "padding": null,
            "grid_auto_rows": null,
            "grid_gap": null,
            "max_width": null,
            "order": null,
            "_view_module_version": "1.2.0",
            "grid_template_areas": null,
            "object_position": null,
            "object_fit": null,
            "grid_auto_columns": null,
            "margin": null,
            "display": null,
            "left": null
          }
        },
        "96a0084552c94f38bf20284a91b62818": {
          "model_module": "@jupyter-widgets/base",
          "model_name": "LayoutModel",
          "state": {
            "_view_name": "LayoutView",
            "grid_template_rows": null,
            "right": null,
            "justify_content": null,
            "_view_module": "@jupyter-widgets/base",
            "overflow": null,
            "_model_module_version": "1.2.0",
            "_view_count": null,
            "flex_flow": null,
            "width": null,
            "min_width": null,
            "border": null,
            "align_items": null,
            "bottom": null,
            "_model_module": "@jupyter-widgets/base",
            "top": null,
            "grid_column": null,
            "overflow_y": null,
            "overflow_x": null,
            "grid_auto_flow": null,
            "grid_area": null,
            "grid_template_columns": null,
            "flex": null,
            "_model_name": "LayoutModel",
            "justify_items": null,
            "grid_row": null,
            "max_height": null,
            "align_content": null,
            "visibility": null,
            "align_self": null,
            "height": null,
            "min_height": null,
            "padding": null,
            "grid_auto_rows": null,
            "grid_gap": null,
            "max_width": null,
            "order": null,
            "_view_module_version": "1.2.0",
            "grid_template_areas": null,
            "object_position": null,
            "object_fit": null,
            "grid_auto_columns": null,
            "margin": null,
            "display": null,
            "left": null
          }
        }
      }
    }
  },
  "cells": [
    {
      "cell_type": "code",
      "metadata": {
        "id": "2e55HDllfy4B",
        "colab_type": "code",
        "outputId": "63dda4a5-0da5-41f2-adc4-d1bc624af32c",
        "colab": {
          "base_uri": "https://localhost:8080/",
          "height": 766
        }
      },
      "source": [
        "!pip3 install fastai2"
      ],
      "execution_count": 1,
      "outputs": [
        {
          "output_type": "stream",
          "text": [
            "Collecting fastai2\n",
            "\u001b[?25l  Downloading https://files.pythonhosted.org/packages/26/4f/0f61bb0d376eb47c20430639bac4946ca0cffcd7e693fb86698656324f2d/fastai2-0.0.17-py3-none-any.whl (190kB)\n",
            "\r\u001b[K     |█▊                              | 10kB 21.3MB/s eta 0:00:01\r\u001b[K     |███▌                            | 20kB 1.8MB/s eta 0:00:01\r\u001b[K     |█████▏                          | 30kB 2.3MB/s eta 0:00:01\r\u001b[K     |███████                         | 40kB 1.7MB/s eta 0:00:01\r\u001b[K     |████████▋                       | 51kB 1.9MB/s eta 0:00:01\r\u001b[K     |██████████▍                     | 61kB 2.3MB/s eta 0:00:01\r\u001b[K     |████████████                    | 71kB 2.5MB/s eta 0:00:01\r\u001b[K     |█████████████▉                  | 81kB 2.6MB/s eta 0:00:01\r\u001b[K     |███████████████▌                | 92kB 2.9MB/s eta 0:00:01\r\u001b[K     |█████████████████▎              | 102kB 2.8MB/s eta 0:00:01\r\u001b[K     |███████████████████             | 112kB 2.8MB/s eta 0:00:01\r\u001b[K     |████████████████████▊           | 122kB 2.8MB/s eta 0:00:01\r\u001b[K     |██████████████████████▍         | 133kB 2.8MB/s eta 0:00:01\r\u001b[K     |████████████████████████▏       | 143kB 2.8MB/s eta 0:00:01\r\u001b[K     |█████████████████████████▉      | 153kB 2.8MB/s eta 0:00:01\r\u001b[K     |███████████████████████████▋    | 163kB 2.8MB/s eta 0:00:01\r\u001b[K     |█████████████████████████████▎  | 174kB 2.8MB/s eta 0:00:01\r\u001b[K     |███████████████████████████████ | 184kB 2.8MB/s eta 0:00:01\r\u001b[K     |████████████████████████████████| 194kB 2.8MB/s \n",
            "\u001b[?25hRequirement already satisfied: fastprogress>=0.1.22 in /usr/local/lib/python3.6/dist-packages (from fastai2) (0.2.3)\n",
            "Requirement already satisfied: scikit-learn in /usr/local/lib/python3.6/dist-packages (from fastai2) (0.22.2.post1)\n",
            "Requirement already satisfied: torchvision>=0.5 in /usr/local/lib/python3.6/dist-packages (from fastai2) (0.6.0+cu101)\n",
            "Requirement already satisfied: matplotlib in /usr/local/lib/python3.6/dist-packages (from fastai2) (3.2.1)\n",
            "Requirement already satisfied: requests in /usr/local/lib/python3.6/dist-packages (from fastai2) (2.21.0)\n",
            "Requirement already satisfied: spacy in /usr/local/lib/python3.6/dist-packages (from fastai2) (2.2.4)\n",
            "Requirement already satisfied: torch>=1.3.0 in /usr/local/lib/python3.6/dist-packages (from fastai2) (1.5.0+cu101)\n",
            "Requirement already satisfied: pandas in /usr/local/lib/python3.6/dist-packages (from fastai2) (1.0.3)\n",
            "Collecting fastcore\n",
            "  Downloading https://files.pythonhosted.org/packages/dd/f3/8cd2e1ed981b0ddbe4d56e5d44f52c9e56d27ac7d53c30abb534d10c82c2/fastcore-0.1.17-py3-none-any.whl\n",
            "Requirement already satisfied: scipy in /usr/local/lib/python3.6/dist-packages (from fastai2) (1.4.1)\n",
            "Requirement already satisfied: pyyaml in /usr/local/lib/python3.6/dist-packages (from fastai2) (3.13)\n",
            "Requirement already satisfied: pillow in /usr/local/lib/python3.6/dist-packages (from fastai2) (7.0.0)\n",
            "Requirement already satisfied: numpy>=1.11.0 in /usr/local/lib/python3.6/dist-packages (from scikit-learn->fastai2) (1.18.3)\n",
            "Requirement already satisfied: joblib>=0.11 in /usr/local/lib/python3.6/dist-packages (from scikit-learn->fastai2) (0.14.1)\n",
            "Requirement already satisfied: kiwisolver>=1.0.1 in /usr/local/lib/python3.6/dist-packages (from matplotlib->fastai2) (1.2.0)\n",
            "Requirement already satisfied: pyparsing!=2.0.4,!=2.1.2,!=2.1.6,>=2.0.1 in /usr/local/lib/python3.6/dist-packages (from matplotlib->fastai2) (2.4.7)\n",
            "Requirement already satisfied: cycler>=0.10 in /usr/local/lib/python3.6/dist-packages (from matplotlib->fastai2) (0.10.0)\n",
            "Requirement already satisfied: python-dateutil>=2.1 in /usr/local/lib/python3.6/dist-packages (from matplotlib->fastai2) (2.8.1)\n",
            "Requirement already satisfied: chardet<3.1.0,>=3.0.2 in /usr/local/lib/python3.6/dist-packages (from requests->fastai2) (3.0.4)\n",
            "Requirement already satisfied: idna<2.9,>=2.5 in /usr/local/lib/python3.6/dist-packages (from requests->fastai2) (2.8)\n",
            "Requirement already satisfied: certifi>=2017.4.17 in /usr/local/lib/python3.6/dist-packages (from requests->fastai2) (2020.4.5.1)\n",
            "Requirement already satisfied: urllib3<1.25,>=1.21.1 in /usr/local/lib/python3.6/dist-packages (from requests->fastai2) (1.24.3)\n",
            "Requirement already satisfied: thinc==7.4.0 in /usr/local/lib/python3.6/dist-packages (from spacy->fastai2) (7.4.0)\n",
            "Requirement already satisfied: catalogue<1.1.0,>=0.0.7 in /usr/local/lib/python3.6/dist-packages (from spacy->fastai2) (1.0.0)\n",
            "Requirement already satisfied: blis<0.5.0,>=0.4.0 in /usr/local/lib/python3.6/dist-packages (from spacy->fastai2) (0.4.1)\n",
            "Requirement already satisfied: preshed<3.1.0,>=3.0.2 in /usr/local/lib/python3.6/dist-packages (from spacy->fastai2) (3.0.2)\n",
            "Requirement already satisfied: cymem<2.1.0,>=2.0.2 in /usr/local/lib/python3.6/dist-packages (from spacy->fastai2) (2.0.3)\n",
            "Requirement already satisfied: plac<1.2.0,>=0.9.6 in /usr/local/lib/python3.6/dist-packages (from spacy->fastai2) (1.1.3)\n",
            "Requirement already satisfied: wasabi<1.1.0,>=0.4.0 in /usr/local/lib/python3.6/dist-packages (from spacy->fastai2) (0.6.0)\n",
            "Requirement already satisfied: setuptools in /usr/local/lib/python3.6/dist-packages (from spacy->fastai2) (46.1.3)\n",
            "Requirement already satisfied: srsly<1.1.0,>=1.0.2 in /usr/local/lib/python3.6/dist-packages (from spacy->fastai2) (1.0.2)\n",
            "Requirement already satisfied: murmurhash<1.1.0,>=0.28.0 in /usr/local/lib/python3.6/dist-packages (from spacy->fastai2) (1.0.2)\n",
            "Requirement already satisfied: tqdm<5.0.0,>=4.38.0 in /usr/local/lib/python3.6/dist-packages (from spacy->fastai2) (4.38.0)\n",
            "Requirement already satisfied: future in /usr/local/lib/python3.6/dist-packages (from torch>=1.3.0->fastai2) (0.16.0)\n",
            "Requirement already satisfied: pytz>=2017.2 in /usr/local/lib/python3.6/dist-packages (from pandas->fastai2) (2018.9)\n",
            "Requirement already satisfied: dataclasses>='0.7'; python_version < \"3.7\" in /usr/local/lib/python3.6/dist-packages (from fastcore->fastai2) (0.7)\n",
            "Requirement already satisfied: six in /usr/local/lib/python3.6/dist-packages (from cycler>=0.10->matplotlib->fastai2) (1.12.0)\n",
            "Requirement already satisfied: importlib-metadata>=0.20; python_version < \"3.8\" in /usr/local/lib/python3.6/dist-packages (from catalogue<1.1.0,>=0.0.7->spacy->fastai2) (1.6.0)\n",
            "Requirement already satisfied: zipp>=0.5 in /usr/local/lib/python3.6/dist-packages (from importlib-metadata>=0.20; python_version < \"3.8\"->catalogue<1.1.0,>=0.0.7->spacy->fastai2) (3.1.0)\n",
            "Installing collected packages: fastcore, fastai2\n",
            "Successfully installed fastai2-0.0.17 fastcore-0.1.17\n"
          ],
          "name": "stdout"
        }
      ]
    },
    {
      "cell_type": "code",
      "metadata": {
        "id": "Bvqj88cjdy_q",
        "colab_type": "code",
        "colab": {}
      },
      "source": [
        "\n",
        "from fastai2.vision.all import *\n",
        "from fastai2.vision.widgets import *"
      ],
      "execution_count": 0,
      "outputs": []
    },
    {
      "cell_type": "code",
      "metadata": {
        "id": "-wD3IXxSdjMP",
        "colab_type": "code",
        "colab": {}
      },
      "source": [
        "path = Path()\n",
        "learn_inf = load_learner(path/'ex2.pkl', cpu=True)\n",
        "btn_upload = widgets.FileUpload()\n",
        "out_pl = widgets.Output()\n",
        "lbl_pred = widgets.Label()"
      ],
      "execution_count": 0,
      "outputs": []
    },
    {
      "cell_type": "code",
      "metadata": {
        "id": "iIy0U6R7dzUI",
        "colab_type": "code",
        "colab": {}
      },
      "source": [
        "def on_click(change):\n",
        "    img = PILImage.create(btn_upload.data[-1])\n",
        "    out_pl.clear_output()\n",
        "    with out_pl: display(img.to_thumb(128,128))\n",
        "    pred,pred_idx,probs = learn_inf.predict(img)\n",
        "    lbl_pred.value = f'Prediction: {pred}; Probability: {probs[pred_idx]:.04f}'"
      ],
      "execution_count": 0,
      "outputs": []
    },
    {
      "cell_type": "code",
      "metadata": {
        "id": "-VzeXD0vd8qo",
        "colab_type": "code",
        "colab": {}
      },
      "source": [
        "btn_upload.observe(on_click, names=['data'])"
      ],
      "execution_count": 0,
      "outputs": []
    },
    {
      "cell_type": "code",
      "metadata": {
        "id": "31NoGqvcd9Zu",
        "colab_type": "code",
        "outputId": "a4afa810-0a5c-4c40-c9a3-b917a788c5e3",
        "colab": {
          "base_uri": "https://localhost:8080/",
          "height": 208,
          "referenced_widgets": [
            "3791970d9adb4525a2a509b729844979",
            "4a30e61c888a4493a46dd4eb0f2e5b92",
            "e83f136a8650492ab67954fb53fc0d01",
            "97e2b845669540ee8f63ea10eeebf6cf",
            "fa4fe47a9e3f42bf9285035a48346a13",
            "3cc56545e8ac46a2acc3f75e53620ef3",
            "a13d1de4c13248ff83cf76d5d79be70b",
            "a14cf7d68da24c438b906f42e6242ba2",
            "9a748f9a084a4b85bb209198af9cca8b",
            "dd9bcd212fc1409cb458e8ba8eb824c9",
            "bc222907dc684620b0ff424ac53ab679",
            "2f4ed75108a74eb8ba894bc1f6bfbb38",
            "96a0084552c94f38bf20284a91b62818"
          ]
        }
      },
      "source": [
        "display(VBox([widgets.Label('Select your Box!'), btn_upload, out_pl, lbl_pred]))"
      ],
      "execution_count": 10,
      "outputs": [
        {
          "output_type": "display_data",
          "data": {
            "application/vnd.jupyter.widget-view+json": {
              "model_id": "3791970d9adb4525a2a509b729844979",
              "version_minor": 0,
              "version_major": 2
            },
            "text/plain": [
              "VBox(children=(Label(value='Select your Box!'), FileUpload(value={}, description='Upload'), Output(), Label(va…"
            ]
          },
          "metadata": {
            "tags": []
          }
        },
        {
          "output_type": "display_data",
          "data": {
            "text/html": [
              ""
            ],
            "text/plain": [
              "<IPython.core.display.HTML object>"
            ]
          },
          "metadata": {
            "tags": []
          }
        }
      ]
    },
    {
      "cell_type": "code",
      "metadata": {
        "id": "LhfyaGDnhIaZ",
        "colab_type": "code",
        "colab": {}
      },
      "source": [
        ""
      ],
      "execution_count": 0,
      "outputs": []
    }
  ]
}